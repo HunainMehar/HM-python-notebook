{
 "cells": [
  {
   "cell_type": "code",
   "execution_count": null,
   "metadata": {},
   "outputs": [],
   "source": [
    "#import libraries\n",
    "from sklearn import preprocessing\n",
    "import pandas as pd"
   ]
  },
  {
   "cell_type": "code",
   "execution_count": null,
   "metadata": {},
   "outputs": [],
   "source": [
    "#import classifier\n",
    "from sklearn.svm import SVC, LinearSVC\n",
    "from sklearn.ensemble import RandomForestClassifier\n",
    "from sklearn.neural_network import MLPClassifier\n",
    "from sklearn.tree import DecisionTreeClassifier\n",
    "\n",
    "#Cross validations\n",
    "from sklearn.model_selection import train_test_split\n",
    "from sklearn.model_selection import LeavePOut,cross_val_score\n",
    "from sklearn.datasets import load_iris\n",
    "\n",
    "#import ML evaluation metrics\n",
    "from sklearn.metrics import accuracy_score, f1_score\n",
    "from sklearn import metrics, model_selection\n",
    "\n",
    "#import scikitplot to plot confusion matrix\n",
    "import scikitplot as skplt"
   ]
  },
  {
   "cell_type": "code",
   "execution_count": null,
   "metadata": {},
   "outputs": [],
   "source": [
    "#read dataset\n",
    "df_gender = pd.read_csv(r'C:\\Users\\Hunai\\OneDrive\\Documents\\HM\\Sem 8/gender-prediction.csv' , encoding = 'unicode_escape')\n",
    "df_gender.count()\n"
   ]
  },
  {
   "cell_type": "code",
   "execution_count": null,
   "metadata": {},
   "outputs": [],
   "source": [
    "#seperate dependent (output) and independent (input) variables\n",
    "x = df_gender.drop(['gender', 'beard', 'scarf'], axis=1)\n",
    "y = df_gender['gender']\n",
    "x\n"
   ]
  },
  {
   "cell_type": "code",
   "execution_count": null,
   "metadata": {},
   "outputs": [],
   "source": [
    "#encoder\n",
    "labels = preprocessing.LabelEncoder()\n",
    "df_gender['beard'] = labels.fit_transform(df_gender['beard'])\n",
    "df_gender['hair_length'] = labels.fit_transform(df_gender['hair_length'])\n",
    "df_gender['scarf'] = labels.fit_transform(df_gender['scarf'])\n",
    "df_gender['eye_color'] = labels.fit_transform(df_gender['eye_color'])\n",
    "df_gender['gender'] = labels.fit_transform(df_gender['gender'])\n",
    "\n",
    "\n"
   ]
  },
  {
   "cell_type": "code",
   "execution_count": null,
   "metadata": {},
   "outputs": [],
   "source": [
    "#split dataset into training and testing\n",
    "X_train, x_test, Y_train, y_test = train_test_split(x, y, test_size = 0.20, random_state = 2)\n",
    "X_train"
   ]
  },
  {
   "cell_type": "code",
   "execution_count": null,
   "metadata": {},
   "outputs": [],
   "source": [
    "#leave p out cross validation\n",
    "lpo = LeavePOut(p=2)\n",
    "lpo.get_n_splits(x)\n"
   ]
  },
  {
   "cell_type": "code",
   "execution_count": null,
   "metadata": {},
   "outputs": [],
   "source": [
    "#select model\n",
    "# model = RandomForestClassifier()\n",
    "#model = SVC()\n",
    "#model = MLPClassifier()\n",
    "# DecisionTreeClassifier()\n"
   ]
  },
  {
   "cell_type": "code",
   "execution_count": null,
   "metadata": {},
   "outputs": [],
   "source": [
    "tree=DecisionTreeClassifier(random_state=42,max_depth=3, min_samples_leaf=5)\n",
    "score=cross_val_score(tree,x,y,cv=lpo)\n",
    "print(\"Cross Validation Scores are {}\".format(score))\n",
    "print(\"Average Cross Validation score :{}\".format(score.mean()))"
   ]
  },
  {
   "cell_type": "code",
   "execution_count": null,
   "metadata": {},
   "outputs": [],
   "source": [
    "#training model\n",
    "model.fit(X_train,Y_train)"
   ]
  },
  {
   "cell_type": "code",
   "execution_count": null,
   "metadata": {},
   "outputs": [],
   "source": [
    "#testing model\n",
    "prediction = model.predict(x_test)"
   ]
  },
  {
   "cell_type": "code",
   "execution_count": null,
   "metadata": {},
   "outputs": [],
   "source": [
    "#accuracy\n",
    "model_acc = accuracy_score(y_test, prediction)*100\n",
    "print(model_acc)"
   ]
  }
 ],
 "metadata": {
  "kernelspec": {
   "display_name": "Python 3.10.4 64-bit",
   "language": "python",
   "name": "python3"
  },
  "language_info": {
   "codemirror_mode": {
    "name": "ipython",
    "version": 3
   },
   "file_extension": ".py",
   "mimetype": "text/x-python",
   "name": "python",
   "nbconvert_exporter": "python",
   "pygments_lexer": "ipython3",
   "version": "3.10.4"
  },
  "orig_nbformat": 4,
  "vscode": {
   "interpreter": {
    "hash": "369f2c481f4da34e4445cda3fffd2e751bd1c4d706f27375911949ba6bb62e1c"
   }
  }
 },
 "nbformat": 4,
 "nbformat_minor": 2
}
