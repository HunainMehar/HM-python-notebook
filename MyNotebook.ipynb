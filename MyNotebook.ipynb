{
 "cells": [
  {
   "cell_type": "markdown",
   "metadata": {},
   "source": [
    "Regular Expression regexp or regex"
   ]
  },
  {
   "cell_type": "code",
   "execution_count": 1,
   "metadata": {},
   "outputs": [
    {
     "name": "stdout",
     "output_type": "stream",
     "text": [
      "7\n"
     ]
    }
   ],
   "source": [
    "# checks if the word exist\n",
    "import re\n",
    "text = \"let me tell you something\"\n",
    "result = re.search(r\"tell\", text)\n",
    "print(result.start())"
   ]
  },
  {
   "cell_type": "code",
   "execution_count": 2,
   "metadata": {},
   "outputs": [
    {
     "name": "stdout",
     "output_type": "stream",
     "text": [
      "<re.Match object; span=(0, 3), match='let'>\n"
     ]
    }
   ],
   "source": [
    "# checks if the word exist at the start\n",
    "import re\n",
    "text = \"let me tell you something\"\n",
    "result = re.match(r\"let\", text)\n",
    "print(result)"
   ]
  },
  {
   "cell_type": "code",
   "execution_count": 11,
   "metadata": {},
   "outputs": [
    {
     "name": "stdout",
     "output_type": "stream",
     "text": [
      "found\n",
      "found\n"
     ]
    }
   ],
   "source": [
    "# search for all the words in string\n",
    "import re\n",
    "text =\"My name is the Barry Allen and I am the fastest man alive\"\n",
    "for result in re.finditer(r\"the\",text):\n",
    "    print(\"found\")\n"
   ]
  },
  {
   "cell_type": "code",
   "execution_count": 3,
   "metadata": {},
   "outputs": [
    {
     "name": "stdout",
     "output_type": "stream",
     "text": [
      "['the', 'the']\n"
     ]
    }
   ],
   "source": [
    "# finds all the words and return\n",
    "import re\n",
    "text =\"My name is the Barry Allen and I am the fastest man alive\"\n",
    "result = re.findall(r\"the\",text)\n",
    "print(result)"
   ]
  },
  {
   "cell_type": "code",
   "execution_count": 6,
   "metadata": {},
   "outputs": [
    {
     "name": "stdout",
     "output_type": "stream",
     "text": [
      "<re.Match object; span=(0, 15), match='home.py hom2.py'>\n"
     ]
    }
   ],
   "source": [
    "# regular expression examples\n",
    "import re\n",
    "text = \"home.py hom2.py\"\n",
    "result = re.match(r'.*\\.py$',text)\n",
    "print(result)"
   ]
  },
  {
   "cell_type": "code",
   "execution_count": 14,
   "metadata": {},
   "outputs": [
    {
     "name": "stdout",
     "output_type": "stream",
     "text": [
      "['$', '$', '$', '$']\n"
     ]
    }
   ],
   "source": [
    "# to find special character in string use backslash\n",
    "import re\n",
    "text =\"My name is . ^ % $ # @ ! $ $ $ & * ( ) the Barry Allen and I am the fastest man alive\"\n",
    "result = re.findall(r\"\\$\",text)\n",
    "print(result)"
   ]
  },
  {
   "cell_type": "code",
   "execution_count": 7,
   "metadata": {},
   "outputs": [
    {
     "name": "stdout",
     "output_type": "stream",
     "text": [
      "['gmail.com', 'gmail.com']\n"
     ]
    }
   ],
   "source": [
    "# to find special character in string use backslash\n",
    "import re\n",
    "text =\"My na.me is <div>Science<div> aaaaaa miss M M  tete eet rte . gmail.com gmail.com ^ % $ # @ ! $ $ $ & * ( ) thea Barry 123456 Allen and I am the fastest man alive\"\n",
    "result = re.findall(r\"\\w+(?=\\.com)\",text)\n",
    "print(result)"
   ]
  },
  {
   "cell_type": "code",
   "execution_count": 130,
   "metadata": {},
   "outputs": [
    {
     "name": "stdout",
     "output_type": "stream",
     "text": [
      "found\n"
     ]
    }
   ],
   "source": [
    "# Write a regexp that will match any string that starts with “csc” and ends with “001” with any number of characters, including none, in between\n",
    "import re\n",
    "text = \"csc001\"\n",
    "result = re.match(r\"...$\",text)\n",
    "# print(result)\n",
    "if (re.search(r\"001$\",text) and re.search(r\"^csc\",text)):\n",
    "    print(\"found\")\n",
    "else:\n",
    "    print(\"not found\")    "
   ]
  },
  {
   "cell_type": "code",
   "execution_count": 138,
   "metadata": {},
   "outputs": [
    {
     "name": "stdout",
     "output_type": "stream",
     "text": [
      "<re.Match object; span=(0, 9), match='python.py'>\n"
     ]
    }
   ],
   "source": [
    "# Write a regexp that will match name and extension of any Python (.py) file\n",
    "import re\n",
    "text=\"python.py\"\n",
    "result = re.search(r\".+\\.py$\",text)\n",
    "print(result)\n"
   ]
  },
  {
   "cell_type": "code",
   "execution_count": 149,
   "metadata": {},
   "outputs": [
    {
     "name": "stdout",
     "output_type": "stream",
     "text": [
      "legal\n"
     ]
    }
   ],
   "source": [
    "# Check using a regexp the following string contain a legal Python filename\n",
    "import re\n",
    "text=\"assignment1.py ids.py\"\n",
    "if (re.findall(r\"(\\.py)+\",text)):\n",
    "    print(\"legal\")\n",
    "else:\n",
    "    print(\"illegal\")\n"
   ]
  },
  {
   "cell_type": "code",
   "execution_count": null,
   "metadata": {},
   "outputs": [],
   "source": [
    "# Write a regexp which detects legal Microsoft Word file names in a string and make a list of them\n",
    "import re\n",
    "text=\"assignment.doc ids.docx \"\n",
    "temp = re.findall(r\"(\\w+\\.do[cx])+\",text)\n",
    "result = []\n",
    "if temp in text:\n",
    "    result.append(temp)\n",
    "print(\"found\")\n",
    "\n",
    "# import re\n",
    "# text=\"assignment.doc ids.docx \"\n",
    "# result = re.findall(r\"(\\w+\\.do[cx])+\",text)\n",
    "# print(result)"
   ]
  },
  {
   "cell_type": "code",
   "execution_count": 175,
   "metadata": {},
   "outputs": [
    {
     "name": "stdout",
     "output_type": "stream",
     "text": [
      "49\n"
     ]
    }
   ],
   "source": [
    "# Print out the start location of the first such filename you encounter in the following string\n",
    "import re\n",
    "text = \"Please edit the following two MS Word documents (bscs.doc) and (bsse.docx), and share with us\"\n",
    "result = re.search(r\"(\\w+\\.do[cx])\",text)\n",
    "print(result.start())"
   ]
  }
 ],
 "metadata": {
  "kernelspec": {
   "display_name": "Python 3.10.4 64-bit",
   "language": "python",
   "name": "python3"
  },
  "language_info": {
   "codemirror_mode": {
    "name": "ipython",
    "version": 3
   },
   "file_extension": ".py",
   "mimetype": "text/x-python",
   "name": "python",
   "nbconvert_exporter": "python",
   "pygments_lexer": "ipython3",
   "version": "3.10.4"
  },
  "orig_nbformat": 4,
  "vscode": {
   "interpreter": {
    "hash": "369f2c481f4da34e4445cda3fffd2e751bd1c4d706f27375911949ba6bb62e1c"
   }
  }
 },
 "nbformat": 4,
 "nbformat_minor": 2
}
