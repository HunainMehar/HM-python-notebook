{
 "cells": [
  {
   "cell_type": "code",
   "execution_count": 1,
   "metadata": {},
   "outputs": [],
   "source": [
    "import matplotlib.pyplot as plt\n",
    "import numpy as np\n",
    "import pandas as pd\n",
    "import seaborn as sns\n",
    "import re"
   ]
  },
  {
   "cell_type": "code",
   "execution_count": null,
   "metadata": {},
   "outputs": [],
   "source": [
    "df = pd.read_csv(r\"C:\\Users\\Hunai\\OneDrive\\Documents\\HM\\Sem 8/the-hello-dataset-fa22.csv\")\n",
    "print (df)"
   ]
  },
  {
   "cell_type": "code",
   "execution_count": 16,
   "metadata": {},
   "outputs": [
    {
     "name": "stdout",
     "output_type": "stream",
     "text": [
      "[[], [], [], [], [], [], [], [], [], ['Hamza'], [], [], [], [], [], [], [], [], [], [], [], ['Habib'], ['Hunain'], [], [], [], [], [], [], [], [], [], [], [], [], [], [], [], [], [], [], [], [], [], [], [], [], [], [], [], [], [], [], [], [], [], [], [], ['Hafiz'], [], ['HAMNA'], [], [], [], [], [], [], [], [], [], [], [], [], [], [], [], [], ['Hina'], ['Hamza'], [], ['Husnain'], [], [], [], [], [], [], [], [], [], [], [], [], ['Hamayoun'], [], [], [], [], ['Hussain'], [], [], [], [], [], [], [], [], [], [], [], [], [], [], [], [], [], [], [], [], [], [], [], [], [], [], [], [], [], [], [], [], [], [], []]\n"
     ]
    }
   ],
   "source": [
    "students=[]\n",
    "for c in df[\"Name\"]:\n",
    "    temp=re.findall(r\"^H\\w+\",c)\n",
    "    students.append(temp)\n",
    "print(students)\n"
   ]
  },
  {
   "cell_type": "code",
   "execution_count": 21,
   "metadata": {},
   "outputs": [
    {
     "name": "stdout",
     "output_type": "stream",
     "text": [
      "['Syeda Maham Gillani', 'Shahzada Mujahid Raza', 'Muhammad Subhan Khan ', 'SARMAD WAHEED AHMED ', 'M Hassaan Lateef ', 'Ahmed Amjad Dar ', 'Muhammad Ibrahim Khalil', 'Muhammad saim jamil', 'Ahmar Hafeez Khan', 'Muhammad Umar Asghar', 'MUHAMMAD HAIDER AWAN', 'M.Abdul Mateen Alam', 'Muhammad Ammar Khalid', 'Osama Nadeem Khan ', 'Muhammad Hashir Azeem', 'Muhammad Aun Raza', 'Hafiz Malahim Labib.', 'HAMNA TARIQ SALEEMI', 'Bashara Tehseen Liaqat', 'Muhammad Hammad Ejaz', 'MUHAMMAD SAIF ULLAH', 'Muhammad Al Fahad', 'Abdul Hadi Khan', 'Hamza Javed Khan', 'GHULAM MUSTAFA SHIEKH', 'Muhammad Azeem Shoukat ', 'Muhammad Nouman Tahir', 'Muhammad Huzaifa Jawad', 'NOOR TARIQ RANA', 'Muhammad Asadullah Rind', 'Muhammad Talha Saeed', 'Muhammad Bilal Aslam', 'Syed Ali Mehdi', 'Aftab Ahmad Khan', 'Syed Zain Raza', 'Muhammad Umair Tariq ', 'M Abubakar Malik'] 37\n"
     ]
    }
   ],
   "source": [
    "students=[]\n",
    "count=0\n",
    "for c in df[\"Name\"]:\n",
    "    name=len(c.split())\n",
    "    if name==3:\n",
    "        students.append(c)\n",
    "        count+=1\n",
    "print(students,count)\n"
   ]
  },
  {
   "cell_type": "code",
   "execution_count": 31,
   "metadata": {},
   "outputs": [
    {
     "name": "stdout",
     "output_type": "stream",
     "text": [
      "26.119402985074625\n"
     ]
    }
   ],
   "source": [
    "student=0\n",
    "t_students=0\n",
    "for c in df[\"CGPA\"]:\n",
    "    t_students+=1\n",
    "    if c>='3.0':\n",
    "        student+=1\n",
    "percentage=(student/t_students)*100        \n",
    "print(percentage)"
   ]
  },
  {
   "cell_type": "code",
   "execution_count": null,
   "metadata": {},
   "outputs": [],
   "source": [
    "m_students=[]\n",
    "f_students=[]\n",
    "gender=[\"Male\",\"Female\"]\n",
    "\n",
    "for c in df[\"Gender\"]:\n",
    "    if c=='Male':\n",
    "        m_students.append(c)\n",
    "    else:\n",
    "        f_students.append(c)\n",
    "ratio=[len(m_students),len(f_students)]        \n",
    "plt.pie(ratio, labels = gender, autopct='%1.1f')\n",
    "plt.show()\n",
    "\n"
   ]
  },
  {
   "cell_type": "code",
   "execution_count": 51,
   "metadata": {},
   "outputs": [
    {
     "data": {
      "image/png": "[encoded data removed]",
      "text/plain": [
       "<Figure size 640x480 with 1 Axes>"
      ]
     },
     "metadata": {},
     "output_type": "display_data"
    }
   ],
   "source": [
    "x = np.random.normal(len(m_students), 10, 250)\n",
    "plt.hist(x)\n",
    "plt.show()"
   ]
  },
  {
   "cell_type": "code",
   "execution_count": null,
   "metadata": {},
   "outputs": [],
   "source": []
  }
 ],
 "metadata": {
  "kernelspec": {
   "display_name": "Python 3.10.4 64-bit",
   "language": "python",
   "name": "python3"
  },
  "language_info": {
   "codemirror_mode": {
    "name": "ipython",
    "version": 3
   },
   "file_extension": ".py",
   "mimetype": "text/x-python",
   "name": "python",
   "nbconvert_exporter": "python",
   "pygments_lexer": "ipython3",
   "version": "3.10.4"
  },
  "orig_nbformat": 4,
  "vscode": {
   "interpreter": {
    "hash": "369f2c481f4da34e4445cda3fffd2e751bd1c4d706f27375911949ba6bb62e1c"
   }
  }
 },
 "nbformat": 4,
 "nbformat_minor": 2
}
