{
 "cells": [
  {
   "cell_type": "code",
   "execution_count": 2,
   "metadata": {},
   "outputs": [],
   "source": [
    "import folium\n",
    "import pandas as pd"
   ]
  },
  {
   "cell_type": "code",
   "execution_count": null,
   "metadata": {},
   "outputs": [],
   "source": [
    "pakistan_map = folium.Map(location=[30.37,69.34], zoom_start=5, tiles='OpenStreetMap' )"
   ]
  },
  {
   "cell_type": "code",
   "execution_count": 4,
   "metadata": {},
   "outputs": [
    {
     "name": "stdout",
     "output_type": "stream",
     "text": [
      "       Cities   Latitude  Longitude  Total Cases  Deaths  Recoveries  \\\n",
      "0      Lahore  31.582045  74.329376       459632   15632       15465   \n",
      "1    Peshawar  34.025917  71.560135       365879   51452        6654   \n",
      "2  Faisalabad  31.418715  73.079109       265486   12154        2413   \n",
      "3  Rawalpindi  33.626057  73.071442       356984    5324        2144   \n",
      "4     Sialkot  32.497223  74.536110       153324    4556        1546   \n",
      "\n",
      "   Active Cases  \n",
      "0        428535  \n",
      "1        307773  \n",
      "2        250919  \n",
      "3        349516  \n",
      "4        147222  \n"
     ]
    }
   ],
   "source": [
    "df = pd.read_csv(r'C:\\Users\\Hunai\\OneDrive\\Documents\\HM\\Sem 8\\Book1.csv')\n",
    "print (df)"
   ]
  },
  {
   "cell_type": "code",
   "execution_count": 5,
   "metadata": {},
   "outputs": [
    {
     "name": "stdout",
     "output_type": "stream",
     "text": [
      "1601305\n"
     ]
    }
   ],
   "source": [
    "t = 0\n",
    "for c in df['Total Cases']:\n",
    "    t = int(c) + int(t)\n",
    "print (t)    "
   ]
  },
  {
   "cell_type": "code",
   "execution_count": null,
   "metadata": {},
   "outputs": [],
   "source": [
    "for city, lat, lon, tc, td, tr, ac in zip(list(df['Cities']), list(df['Latitude']), list(df['Longitude']), list(df['Total Cases']), list(df['Deaths']), list(df['Recoveries']), list(df['Active Cases'])):\n",
    "    folium.CircleMarker(location = [lat,lon], radius=(tc/t*100),color='red', fill=False, fill_color='blue').add_to(pakistan_map)\n",
    "    html_data='City:'+city+ '<br>' 'Total Cases:'+str(tc)+ '<br>' 'Deaths:'+str(td)+ '<br>' 'Recoveries:'+str(tr)+ '<br>' 'Active Cases:'+str(ac)\n",
    "    iframe=folium.IFrame(html_data, width=200, height=100)\n",
    "    popup_data= folium.Popup(iframe, max_width=400)\n",
    "    folium.Marker(location=[lat,lon],popup=popup_data).add_to(pakistan_map)"
   ]
  },
  {
   "cell_type": "code",
   "execution_count": null,
   "metadata": {},
   "outputs": [],
   "source": [
    "display(pakistan_map)"
   ]
  }
 ],
 "metadata": {
  "kernelspec": {
   "display_name": "Python 3.10.4 64-bit",
   "language": "python",
   "name": "python3"
  },
  "language_info": {
   "codemirror_mode": {
    "name": "ipython",
    "version": 3
   },
   "file_extension": ".py",
   "mimetype": "text/x-python",
   "name": "python",
   "nbconvert_exporter": "python",
   "pygments_lexer": "ipython3",
   "version": "3.10.4"
  },
  "orig_nbformat": 4,
  "vscode": {
   "interpreter": {
    "hash": "369f2c481f4da34e4445cda3fffd2e751bd1c4d706f27375911949ba6bb62e1c"
   }
  }
 },
 "nbformat": 4,
 "nbformat_minor": 2
}
